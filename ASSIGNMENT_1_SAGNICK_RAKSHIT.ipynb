{
  "nbformat": 4,
  "nbformat_minor": 0,
  "metadata": {
    "colab": {
      "provenance": []
    },
    "kernelspec": {
      "name": "python3",
      "display_name": "Python 3"
    },
    "language_info": {
      "name": "python"
    }
  },
  "cells": [
    {
      "cell_type": "markdown",
      "source": [
        "'''\n",
        "\n",
        "1) What is Python, and why is it popular ?\n",
        "\n",
        "Ans - Python is a high-level, interpreted programming language known for its simplicity, readability, and versatility.Python emphasizes code readability and allows developers to express ideas in fewer lines of code than many other languages.\n",
        "\n",
        "Python is popular because of the following reasons :-\n",
        "\n",
        "a)Python has a simple, readable syntax that is great for beginners and professionals alike.\n",
        "\n",
        "b)Used in web development, data science, automation, AI, machine learning, and more.\n",
        "\n",
        "c)A large, active community means tons of tutorials, libraries, and help are available.\n",
        "\n",
        "d)Python has powerful libraries like NumPy, Pandas, TensorFlow, Django, and Flask.\n",
        "\n",
        "e)Free to use and runs on Windows, macOS, and Linux, making it highly accessible.\n",
        "\n",
        "2) What is an interpreter in Python ?\n",
        "\n",
        "Ans - An interpreter in Python is a program that reads and executes Python code line by line.\n",
        "\n",
        "3) What are pre-defined keywords in Python ?\n",
        "\n",
        "Ans - Pre-defined keywords in Python are reserved words that have special meaning to the Python interpreter. You cannot use them as variable names, function names, or identifiers because they are part of the Python syntax.\n",
        "\n",
        "Example - if , else , import , class etc...\n",
        "\n",
        "4) Can keywords be used as variable names ?\n",
        "\n",
        "Ans - No, keywords cannot be used as variable names in Python.\n",
        "\n",
        "Example if = 5  #  Invalid: 'if' is a keyword\n",
        "\n",
        "5) What is mutability in Python ?\n",
        "\n",
        "Ans - Mutability refers to whether or not an object's value can be changed after it is created.\n",
        "\n",
        "6) Why are lists mutable, but tuples are immutable ?\n",
        "\n",
        "Ans - Lists are mutable because they are designed to store data that can change, like adding, removing, or updating elements.\n",
        "\n",
        "Tuples are immutable because they are meant to store fixed data that should not change, making them safer and faster to use in some cases.\n",
        "\n",
        "7) What is the difference between “==” and “is” operators in Python ?\n",
        "\n",
        "Ans - \"==\" compares values of two objects. If the contents are the same, it returns True, even if the objects are different.\n",
        "\n",
        "\"is\" compares identity. It returns True only if both variables point to the exact same object in memory.\n",
        "\n",
        "x = [1, 2, 3]\n",
        "\n",
        "y = [1, 2, 3]\n",
        "\n",
        "x == y  # True → same values\n",
        "\n",
        "x is y  # False → different objects\n",
        "\n",
        "8) What are logical operators in Python ?\n",
        "\n",
        "Ans - Logical operators are used to combine multiple conditions and return a Boolean value : True or False.\n",
        "\n",
        "example - x = 5\n",
        "\n",
        "# and\n",
        "print(x > 2 and x < 10)  # True\n",
        "\n",
        "# or\n",
        "print(x < 2 or x == 5)   # True\n",
        "\n",
        "# not\n",
        "print(not(x == 5))       # False\n",
        "\n",
        "9) What is type casting in Python ?\n",
        "\n",
        "Ans - Type casting means converting one data type into another.\n",
        "\n",
        "Example -\n",
        "# Convert float to int\n",
        "\n",
        "a = 5.7\n",
        "\n",
        "b = int(a)\n",
        "\n",
        "print(b)  # Output: 5\n",
        "\n",
        "10) What is the difference between implicit and explicit type casting ?\n",
        "\n",
        "Ans - Implicit type casting: Done automatically by Python.\n",
        "\n",
        "Example -\n",
        "\n",
        "x = 3       # int\n",
        "\n",
        "y = 4.5     # float\n",
        "\n",
        "z = x + y   # Python automatically converts x to float\n",
        "\n",
        "print(z)    # Output: 7.5\n",
        "\n",
        "\n",
        "Explicit type casting: Done manually by the programmer using functions like int(), float(), str().\n",
        "\n",
        "Example -\n",
        "\n",
        "a = \"10\"          # string\n",
        "\n",
        "b = int(a)        # you manually convert string to int\n",
        "\n",
        "print(b + 5)      # Output: 15\n",
        "\n",
        "11) What is the purpose of conditional statements in Python ?\n",
        "\n",
        "Ans - The purpose of conditional statements in Python is to make decisions in code,they let the program choose what to do based on certain conditions.\n",
        "\n",
        "Example -\n",
        "\n",
        "age = 18\n",
        "\n",
        "if age >= 18:\n",
        "    \n",
        "    print(\"You can vote\")\n",
        "\n",
        "else:\n",
        "    \n",
        "    print(\"You cannot vote\")\n",
        "\n",
        "12)  How does the elif statement work ?\n",
        "\n",
        "Ans - The elif statement in Python means \"else if\".\n",
        "It checks another condition if the previous if condition was False.\n",
        "\n",
        "Example -\n",
        "\n",
        "marks = 75\n",
        "\n",
        "if marks >= 90:\n",
        "\n",
        "    print(\"Grade: A\")\n",
        "\n",
        "elif marks >= 70:\n",
        "\n",
        "    print(\"Grade: B\")\n",
        "\n",
        "elif marks >= 50:\n",
        "\n",
        "    print(\"Grade: C\")\n",
        "\n",
        "else:\n",
        "\n",
        "    print(\"Grade: F\")\n",
        "\n",
        "13) What is the difference between for and while loops ?\n",
        "\n",
        "Ans - A for loop is used when you know in advance how many times you want to repeat something.\n",
        "\n",
        "A while loop is used when you don't know beforehand how many times to loop — it keeps running as long as a condition is true.\n",
        "\n",
        "Use for for fixed repetition, and while for condition-based repetition.\n",
        "\n",
        "14)  Describe a scenario where a while loop is more suitable than a for loop.\n",
        "\n",
        "Ans - A while loop is more suitable when we don’t know in advance how many times a block of code needs to repeat.\n",
        "\n",
        "Example scenario:\n",
        "Asking the user to enter the correct password.\n",
        "\n",
        "We want to keep asking until the correct password is entered. Since we don't know how many attempts the user will take, a while loop is the best choice.\n",
        "\n",
        "password = \"\"\n",
        "\n",
        "while password != \"abc123\":\n",
        "\n",
        "    password = input(\"Enter the password: \")\n",
        "\n",
        "print(\"Access granted!\")\n",
        "\n",
        "The loop will keep running until the user enters \"abc123\". This situation requires a condition-based loop, so while is more suitable than for.\n",
        "\n",
        "'''\n",
        "\n",
        "\n",
        "\n",
        "\n",
        "\n",
        "\n",
        "\n",
        "\n",
        "\n"
      ],
      "metadata": {
        "id": "1OociZvfp5Uc"
      }
    },
    {
      "cell_type": "markdown",
      "source": [
        "1) Write a Python program to print \"Hello, World!\""
      ],
      "metadata": {
        "id": "KEjSMgxyzKFL"
      }
    },
    {
      "cell_type": "code",
      "source": [
        "print(\"Hello, World!\")"
      ],
      "metadata": {
        "colab": {
          "base_uri": "https://localhost:8080/"
        },
        "id": "X4PLVFuvzVIL",
        "outputId": "c7168f5e-a148-4ab6-e3b5-39fd5e821f92"
      },
      "execution_count": 2,
      "outputs": [
        {
          "output_type": "stream",
          "name": "stdout",
          "text": [
            "Hello, World!\n"
          ]
        }
      ]
    },
    {
      "cell_type": "markdown",
      "source": [
        "2) Write a Python program that displays your name and age ?"
      ],
      "metadata": {
        "id": "Jw1DhdGszd7h"
      }
    },
    {
      "cell_type": "code",
      "source": [
        "name = \"Sagnick\"\n",
        "age = 21\n",
        "\n",
        "print(\"My name is\", name)\n",
        "print(\"I am\", age, \"years old.\")\n"
      ],
      "metadata": {
        "colab": {
          "base_uri": "https://localhost:8080/"
        },
        "id": "qwcYu6T1zmTB",
        "outputId": "6b565166-6ff6-4f33-fd69-1bebd88d35eb"
      },
      "execution_count": 3,
      "outputs": [
        {
          "output_type": "stream",
          "name": "stdout",
          "text": [
            "My name is Sagnick\n",
            "I am 21 years old.\n"
          ]
        }
      ]
    },
    {
      "cell_type": "markdown",
      "source": [
        "3) Write code to print all the pre-defined keywords in Python using the keyword library."
      ],
      "metadata": {
        "id": "2HtRMm5Gz7pg"
      }
    },
    {
      "cell_type": "code",
      "source": [
        "import keyword\n",
        "print(keyword.kwlist)"
      ],
      "metadata": {
        "colab": {
          "base_uri": "https://localhost:8080/"
        },
        "id": "QkeRIi320H2o",
        "outputId": "3c9d54b5-bbef-43b4-eac3-003b7161565f"
      },
      "execution_count": 4,
      "outputs": [
        {
          "output_type": "stream",
          "name": "stdout",
          "text": [
            "['False', 'None', 'True', 'and', 'as', 'assert', 'async', 'await', 'break', 'class', 'continue', 'def', 'del', 'elif', 'else', 'except', 'finally', 'for', 'from', 'global', 'if', 'import', 'in', 'is', 'lambda', 'nonlocal', 'not', 'or', 'pass', 'raise', 'return', 'try', 'while', 'with', 'yield']\n"
          ]
        }
      ]
    },
    {
      "cell_type": "markdown",
      "source": [
        "4) Write a program that checks if a given word is a Python keyword."
      ],
      "metadata": {
        "id": "jz9R4DZg0orA"
      }
    },
    {
      "cell_type": "code",
      "source": [
        "import keyword\n",
        "\n",
        "word = input(\"Enter a word to check if it's a Python keyword: \")\n",
        "\n",
        "if keyword.iskeyword(word):\n",
        "    print(f\"'{word}' is a Python keyword.\")\n",
        "else:\n",
        "    print(f\"'{word}' is NOT a Python keyword.\")\n"
      ],
      "metadata": {
        "colab": {
          "base_uri": "https://localhost:8080/"
        },
        "id": "5rZzaNrO0v05",
        "outputId": "23dbf725-38cd-446f-b102-36234f23024a"
      },
      "execution_count": 5,
      "outputs": [
        {
          "output_type": "stream",
          "name": "stdout",
          "text": [
            "Enter a word to check if it's a Python keyword: if\n",
            "'if' is a Python keyword.\n"
          ]
        }
      ]
    },
    {
      "cell_type": "markdown",
      "source": [
        "5) Create a list and tuple in Python, and demonstrate how attempting to change an element works differently\n",
        "for each"
      ],
      "metadata": {
        "id": "hsoY3vbU1ROy"
      }
    },
    {
      "cell_type": "code",
      "source": [
        "my_list = [10, 20, 30]\n",
        "my_tuple = (10, 20, 30)\n",
        "\n",
        "my_list[1] = 99\n",
        "print(\"Modified list:\", my_list)\n",
        "\n",
        "try:\n",
        "    my_tuple[1] = 99\n",
        "except TypeError as e:\n",
        "    print(\"Error when modifying tuple:\", e)\n"
      ],
      "metadata": {
        "colab": {
          "base_uri": "https://localhost:8080/"
        },
        "id": "KB47O9hy1YOw",
        "outputId": "8fdaa88c-5475-457b-d616-51d08eaa580e"
      },
      "execution_count": 6,
      "outputs": [
        {
          "output_type": "stream",
          "name": "stdout",
          "text": [
            "Modified list: [10, 99, 30]\n",
            "Error when modifying tuple: 'tuple' object does not support item assignment\n"
          ]
        }
      ]
    },
    {
      "cell_type": "markdown",
      "source": [
        "6)  Write a function to demonstrate the behavior of mutable and immutable arguments.\n",
        "\n"
      ],
      "metadata": {
        "id": "EWHD8BFD1vbA"
      }
    },
    {
      "cell_type": "code",
      "source": [
        "def modify_values(a_number, a_list):\n",
        "\n",
        "    a_number += 10\n",
        "\n",
        "    a_list.append(100)\n",
        "\n",
        "    print(\"Inside function:\")\n",
        "    print(\"a_number:\", a_number)\n",
        "    print(\"a_list:\", a_list)\n",
        "\n",
        "num = 5\n",
        "lst = [1, 2, 3]\n",
        "\n",
        "modify_values(num, lst)\n",
        "\n",
        "print(\"\\nOutside function:\")\n",
        "print(\"num:\", num)\n",
        "print(\"lst:\", lst)\n"
      ],
      "metadata": {
        "colab": {
          "base_uri": "https://localhost:8080/"
        },
        "id": "gar61i7k1-rx",
        "outputId": "55df1260-eb75-4ef6-81f9-af5e43343320"
      },
      "execution_count": 7,
      "outputs": [
        {
          "output_type": "stream",
          "name": "stdout",
          "text": [
            "Inside function:\n",
            "a_number: 15\n",
            "a_list: [1, 2, 3, 100]\n",
            "\n",
            "Outside function:\n",
            "num: 5\n",
            "lst: [1, 2, 3, 100]\n"
          ]
        }
      ]
    },
    {
      "cell_type": "markdown",
      "source": [
        "7)  Write a program that performs basic arithmetic operations on two user-input numbers.\n",
        "\n"
      ],
      "metadata": {
        "id": "DqNwHCxm2MbI"
      }
    },
    {
      "cell_type": "code",
      "source": [
        "num1 = float(input(\"Enter first number: \"))\n",
        "num2 = float(input(\"Enter second number: \"))\n",
        "\n",
        "print(\"Addition:\", num1 + num2)\n",
        "print(\"Subtraction:\", num1 - num2)\n",
        "print(\"Multiplication:\", num1 * num2)\n",
        "\n",
        "if num2 != 0:\n",
        "    print(\"Division:\", num1 / num2)\n",
        "else:\n",
        "    print(\"Cannot divide by zero.\")\n"
      ],
      "metadata": {
        "colab": {
          "base_uri": "https://localhost:8080/"
        },
        "id": "1W8Oj2sy2Rt4",
        "outputId": "d32857d1-5fbf-451d-e746-7e9d804cef0d"
      },
      "execution_count": 8,
      "outputs": [
        {
          "output_type": "stream",
          "name": "stdout",
          "text": [
            "Enter first number: 256\n",
            "Enter second number: 345\n",
            "Addition: 601.0\n",
            "Subtraction: -89.0\n",
            "Multiplication: 88320.0\n",
            "Division: 0.7420289855072464\n"
          ]
        }
      ]
    },
    {
      "cell_type": "markdown",
      "source": [
        "8) Write a program to demonstrate the use of logical operators."
      ],
      "metadata": {
        "id": "TNewRAl02rYo"
      }
    },
    {
      "cell_type": "code",
      "source": [
        "a = True\n",
        "b = False\n",
        "\n",
        "print(\"a =\", a)\n",
        "print(\"b =\", b)\n",
        "\n",
        "print(\"\\na and b =\", a and b)   # True only if both are True\n",
        "print(\"a or b =\", a or b)     # True if at least one is True\n",
        "print(\"not a =\", not a)       # Reverses the truth value of a\n",
        "print(\"not b =\", not b)       # Reverses the truth value of b\n"
      ],
      "metadata": {
        "colab": {
          "base_uri": "https://localhost:8080/"
        },
        "id": "qiIMuUik2w6I",
        "outputId": "b42bc2f3-aeec-4e9b-cf7c-2cc7252aa307"
      },
      "execution_count": 9,
      "outputs": [
        {
          "output_type": "stream",
          "name": "stdout",
          "text": [
            "a = True\n",
            "b = False\n",
            "\n",
            "a and b = False\n",
            "a or b = True\n",
            "not a = False\n",
            "not b = True\n"
          ]
        }
      ]
    },
    {
      "cell_type": "markdown",
      "source": [
        "9)  Write a Python program to convert user input from string to integer, float, and boolean types.\n",
        "\n"
      ],
      "metadata": {
        "id": "ZwOf7IBJ3AkY"
      }
    },
    {
      "cell_type": "code",
      "source": [
        "user_input = input(\"Enter a value: \")\n",
        "\n",
        "try:\n",
        "    int_value = int(user_input)\n",
        "    print(\"Integer:\", int_value)\n",
        "except ValueError:\n",
        "    print(\"Cannot convert to integer.\")\n",
        "\n",
        "try:\n",
        "    float_value = float(user_input)\n",
        "    print(\"Float:\", float_value)\n",
        "except ValueError:\n",
        "    print(\"Cannot convert to float.\")\n",
        "\n",
        "bool_value = bool(user_input)  # Non-empty string is True, empty is False\n",
        "print(\"Boolean:\", bool_value)\n"
      ],
      "metadata": {
        "colab": {
          "base_uri": "https://localhost:8080/"
        },
        "id": "oGbSOt3D3Gcx",
        "outputId": "d2e01498-3ed2-4d1d-ec41-76c1583c0124"
      },
      "execution_count": 10,
      "outputs": [
        {
          "output_type": "stream",
          "name": "stdout",
          "text": [
            "Enter a value: 24\n",
            "Integer: 24\n",
            "Float: 24.0\n",
            "Boolean: True\n"
          ]
        }
      ]
    },
    {
      "cell_type": "markdown",
      "source": [
        "10)  Write code to demonstrate type casting with list elements."
      ],
      "metadata": {
        "id": "evb8fSeV3V9C"
      }
    },
    {
      "cell_type": "code",
      "source": [
        "str_list = ['10', '20', '30']\n",
        "\n",
        "int_list = [int(item) for item in str_list]\n",
        "\n",
        "float_list = [float(item) for item in str_list]\n",
        "\n",
        "print(\"Original list (strings):\", str_list)\n",
        "print(\"After converting to integers:\", int_list)\n",
        "print(\"After converting to floats:\", float_list)\n"
      ],
      "metadata": {
        "colab": {
          "base_uri": "https://localhost:8080/"
        },
        "id": "pURprmXe3aWB",
        "outputId": "1c348f13-c395-4cf8-fde2-133d02264491"
      },
      "execution_count": 11,
      "outputs": [
        {
          "output_type": "stream",
          "name": "stdout",
          "text": [
            "Original list (strings): ['10', '20', '30']\n",
            "After converting to integers: [10, 20, 30]\n",
            "After converting to floats: [10.0, 20.0, 30.0]\n"
          ]
        }
      ]
    },
    {
      "cell_type": "markdown",
      "source": [
        "11)  Write a program that checks if a number is positive, negative, or zero.\n",
        "\n"
      ],
      "metadata": {
        "id": "rc8novJT3tCR"
      }
    },
    {
      "cell_type": "code",
      "source": [
        "num = float(input(\"Enter a number: \"))\n",
        "\n",
        "if num > 0:\n",
        "    print(\"The number is positive.\")\n",
        "elif num < 0:\n",
        "    print(\"The number is negative.\")\n",
        "else:\n",
        "    print(\"The number is zero.\")\n"
      ],
      "metadata": {
        "colab": {
          "base_uri": "https://localhost:8080/"
        },
        "id": "QBCnt_fi3xAh",
        "outputId": "070b34af-4eae-4743-fcdb-0a71fde84d13"
      },
      "execution_count": 12,
      "outputs": [
        {
          "output_type": "stream",
          "name": "stdout",
          "text": [
            "Enter a number: -6\n",
            "The number is negative.\n"
          ]
        }
      ]
    },
    {
      "cell_type": "markdown",
      "source": [
        "12)  Write a for loop to print numbers from 1 to 10."
      ],
      "metadata": {
        "id": "Ae2PKt1A38EQ"
      }
    },
    {
      "cell_type": "code",
      "source": [
        "for i in range(1, 11):\n",
        "    print(i)\n"
      ],
      "metadata": {
        "colab": {
          "base_uri": "https://localhost:8080/"
        },
        "id": "ESFUxg9I4AAB",
        "outputId": "4aa697b8-2d12-4a73-abff-25448a994929"
      },
      "execution_count": 13,
      "outputs": [
        {
          "output_type": "stream",
          "name": "stdout",
          "text": [
            "1\n",
            "2\n",
            "3\n",
            "4\n",
            "5\n",
            "6\n",
            "7\n",
            "8\n",
            "9\n",
            "10\n"
          ]
        }
      ]
    },
    {
      "cell_type": "markdown",
      "source": [
        "13)  Write a Python program to find the sum of all even numbers between 1 and 50."
      ],
      "metadata": {
        "id": "HHPNPfmO4FZJ"
      }
    },
    {
      "cell_type": "code",
      "source": [
        "sum_even = 0\n",
        "\n",
        "for i in range(1, 51):\n",
        "    if i % 2 == 0:\n",
        "        sum_even += i\n",
        "\n",
        "print(\"Sum of even numbers from 1 to 50 is:\", sum_even)\n"
      ],
      "metadata": {
        "colab": {
          "base_uri": "https://localhost:8080/"
        },
        "id": "L--H2EUG4Jm4",
        "outputId": "e6bfcc0e-57a7-4089-faa2-56fea1ab7d4e"
      },
      "execution_count": 14,
      "outputs": [
        {
          "output_type": "stream",
          "name": "stdout",
          "text": [
            "Sum of even numbers from 1 to 50 is: 650\n"
          ]
        }
      ]
    },
    {
      "cell_type": "markdown",
      "source": [
        "14) Write a program to reverse a string using a while loop."
      ],
      "metadata": {
        "id": "S2TFmSDa4Pr5"
      }
    },
    {
      "cell_type": "code",
      "source": [
        "text = input(\"Enter a string: \")\n",
        "\n",
        "reversed_text = \"\"\n",
        "index = len(text) - 1\n",
        "\n",
        "while index >= 0:\n",
        "    reversed_text += text[index]\n",
        "    index -= 1\n",
        "\n",
        "print(\"Reversed string:\", reversed_text)\n"
      ],
      "metadata": {
        "colab": {
          "base_uri": "https://localhost:8080/"
        },
        "id": "vG7XJBoW4Uc4",
        "outputId": "a52f0ab0-847d-40e5-f6de-c77fc67e1299"
      },
      "execution_count": 15,
      "outputs": [
        {
          "output_type": "stream",
          "name": "stdout",
          "text": [
            "Enter a string: I LOVE YOU\n",
            "Reversed string: UOY EVOL I\n"
          ]
        }
      ]
    },
    {
      "cell_type": "markdown",
      "source": [
        "15) Write a Python program to calculate the factorial of a number provided by the user using a while loop."
      ],
      "metadata": {
        "id": "dowipJ4f4lKZ"
      }
    },
    {
      "cell_type": "code",
      "source": [
        "num = int(input(\"Enter a number: \"))\n",
        "\n",
        "factorial = 1\n",
        "i = 1\n",
        "\n",
        "if num < 0:\n",
        "    print(\"Factorial is not defined for negative numbers.\")\n",
        "else:\n",
        "    while i <= num:\n",
        "        factorial *= i\n",
        "        i += 1\n",
        "    print(\"Factorial of\", num, \"is:\", factorial)\n"
      ],
      "metadata": {
        "colab": {
          "base_uri": "https://localhost:8080/"
        },
        "id": "QpYv1eQl4o5C",
        "outputId": "d2ae154b-0a98-49be-fa4d-d161906e2f3a"
      },
      "execution_count": 16,
      "outputs": [
        {
          "output_type": "stream",
          "name": "stdout",
          "text": [
            "Enter a number: 5\n",
            "Factorial of 5 is: 120\n"
          ]
        }
      ]
    },
    {
      "cell_type": "markdown",
      "source": [],
      "metadata": {
        "id": "6N7vJQ22y9L0"
      }
    }
  ]
}